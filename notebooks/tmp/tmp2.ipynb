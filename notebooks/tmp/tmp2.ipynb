{
 "cells": [
  {
   "cell_type": "code",
   "id": "initial_id",
   "metadata": {
    "collapsed": true,
    "ExecuteTime": {
     "end_time": "2025-10-09T13:29:47.395112Z",
     "start_time": "2025-10-09T13:29:40.185213Z"
    }
   },
   "source": [
    "import numpy as np\n",
    "\n",
    "\n",
    "# 语料\n",
    "\n",
    "text = \"\"\"\n",
    "三体 世界 的 天空 没有 太阳 只有 三个 混乱 的 恒星\n",
    "人类 文明 在 黑暗 森林 中 颤抖 每一次 呼吸 都是 赌注\n",
    "面壁者 在 孤独 中 思考 破壁人 在 阴影 中 行动\n",
    "舰队 穿越 宇宙 水滴 划破 寂静 智子 注视 着 地球\n",
    "希望 与 毁灭 并存 战争 与 信仰 交织 宇宙 冷漠 而 宏大\n",
    "\"\"\".split()\n",
    "\n",
    "# 建立词表\n",
    "vocab = list(set(text))\n",
    "stoi = {w: i for i, w in enumerate(vocab)}\n",
    "ids = np.array([stoi[w] for w in text])\n",
    "V, D = len(vocab), 16  # V=词表大小，D=向量维度\n",
    "\n",
    "# 初始化词向量\n",
    "W_in = np.random.randn(V, D) * 0.1\n",
    "W_out = np.random.randn(V, D) * 0.1\n",
    "\n",
    "# Sigmoid 函数\n",
    "def sigmoid(x):\n",
    "    x = np.clip(x, -10, 10)\n",
    "    return 1 / (1 + np.exp(-x))\n",
    "\n",
    "\n",
    "#Skip-Gram + 负采样\n",
    "\n",
    "lr = 0.02  # 学习率\n",
    "for epoch in range(1000):\n",
    "    loss = 0\n",
    "    for i, c in enumerate(ids):\n",
    "        # 上下文窗口 ±2\n",
    "        ctx = [ids[j] for j in [i-2, i-1, i+1, i+2] if 0 <= j < len(ids)]\n",
    "        for t in ctx:\n",
    "            neg = np.random.randint(0, V, 4)  # 4个负样本\n",
    "            for target, label in [(t, 1)] + [(n, 0) for n in neg]:\n",
    "                dot = W_in[c] @ W_out[target]\n",
    "                p = sigmoid(dot)\n",
    "                grad = (label - p)\n",
    "                # 更新中心词和上下文词的向量\n",
    "                W_in[c] += lr * grad * W_out[target]\n",
    "                W_out[target] += lr * grad * W_in[c]\n",
    "                loss += -np.log(p + 1e-9) if label else -np.log(1 - p + 1e-9)\n",
    "    if epoch % 50 == 0:\n",
    "        print(f\"Epoch {epoch}, loss = {loss:.2f}\")\n",
    "\n",
    "\n",
    "#查词语义相似度\n",
    "\n",
    "def most_similar(word, topk=5):\n",
    "    i = stoi[word]\n",
    "    sim = W_in @ W_in[i]\n",
    "    j = np.argsort(-sim)\n",
    "    print(f\"'{word}' 的相似词:\", [vocab[k] for k in j[:topk]])\n",
    "\n",
    "\n",
    "most_similar(\"人类\")\n",
    "most_similar(\"宇宙\")\n",
    "most_similar(\"面壁者\")\n",
    "most_similar(\"黑暗\")\n"
   ],
   "outputs": [
    {
     "name": "stdout",
     "output_type": "stream",
     "text": [
      "Epoch 0, loss = 727.97\n",
      "Epoch 50, loss = 393.50\n",
      "Epoch 100, loss = 232.07\n",
      "Epoch 150, loss = 218.94\n",
      "Epoch 200, loss = 219.11\n",
      "Epoch 250, loss = 202.43\n",
      "Epoch 300, loss = 194.18\n",
      "Epoch 350, loss = 194.12\n",
      "Epoch 400, loss = 208.76\n",
      "Epoch 450, loss = 185.46\n",
      "Epoch 500, loss = 189.30\n",
      "Epoch 550, loss = 205.51\n",
      "Epoch 600, loss = 209.47\n",
      "Epoch 650, loss = 187.35\n",
      "Epoch 700, loss = 204.50\n",
      "Epoch 750, loss = 207.81\n",
      "Epoch 800, loss = 201.10\n",
      "Epoch 850, loss = 179.61\n",
      "Epoch 900, loss = 209.09\n",
      "Epoch 950, loss = 211.02\n",
      "'人类' 的相似词: ['人类', '混乱', '黑暗', '文明', '恒星']\n",
      "'宇宙' 的相似词: ['宇宙', '宏大', '行动', '寂静', '水滴']\n",
      "'面壁者' 的相似词: ['面壁者', '思考', '呼吸', '赌注', '文明']\n",
      "'黑暗' 的相似词: ['黑暗', '颤抖', '人类', '森林', '孤独']\n"
     ]
    }
   ],
   "execution_count": 9
  }
 ],
 "metadata": {
  "kernelspec": {
   "display_name": "Python 3",
   "language": "python",
   "name": "python3"
  },
  "language_info": {
   "codemirror_mode": {
    "name": "ipython",
    "version": 2
   },
   "file_extension": ".py",
   "mimetype": "text/x-python",
   "name": "python",
   "nbconvert_exporter": "python",
   "pygments_lexer": "ipython2",
   "version": "2.7.6"
  }
 },
 "nbformat": 4,
 "nbformat_minor": 5
}
