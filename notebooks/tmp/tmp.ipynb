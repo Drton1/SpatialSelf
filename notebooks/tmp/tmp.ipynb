{
 "cells": [
  {
   "cell_type": "code",
   "id": "initial_id",
   "metadata": {
    "collapsed": true,
    "ExecuteTime": {
     "end_time": "2025-10-03T11:01:12.747293Z",
     "start_time": "2025-10-03T11:01:11.259222Z"
    }
   },
   "source": [
    "import torch\n",
    "print(torch.__version__)       # 应该是 2.7.x / 2.8.x，不带 +cpu\n",
    "print(torch.version.cuda)      # 应该显示 12.1\n",
    "print(torch.cuda.is_available())  # True\n",
    "print(torch.cuda.get_device_name(0))  # 你的 5070Ti\n"
   ],
   "outputs": [
    {
     "name": "stdout",
     "output_type": "stream",
     "text": [
      "2.10.0.dev20251002+cu128\n",
      "12.8\n",
      "True\n",
      "NVIDIA GeForce RTX 5070 Ti Laptop GPU\n"
     ]
    }
   ],
   "execution_count": 1
  },
  {
   "metadata": {
    "ExecuteTime": {
     "end_time": "2025-10-04T01:23:09.732189Z",
     "start_time": "2025-10-04T01:23:09.716916Z"
    }
   },
   "cell_type": "code",
   "source": [
    "import pandas as pd\n",
    "\n",
    "df = pd.read_csv(\"../../data/lr_results/all_slides_lr_pairs.csv\")\n",
    "\n",
    "# 只取需要的列\n",
    "df = df[[\"partner_a\", \"partner_b\"]]\n",
    "\n",
    "# 规范化顺序：保证 partner_a 始终是字母序小的\n",
    "df = pd.DataFrame(\n",
    "    df.apply(lambda row: sorted([row[\"partner_a\"], row[\"partner_b\"]]), axis=1).tolist(),\n",
    "    columns=[\"partner_a\", \"partner_b\"]\n",
    ")\n",
    "\n",
    "# 去重\n",
    "df = df.drop_duplicates()\n",
    "\n",
    "# 保存\n",
    "df.to_csv(\"../../data/lr_results/clean_lr_pairs.csv\", index=False)\n",
    "print(\"处理完成，结果保存在 1_clean.csv\")\n"
   ],
   "id": "c6f4d3fb93391747",
   "outputs": [
    {
     "name": "stdout",
     "output_type": "stream",
     "text": [
      "处理完成，结果保存在 1_clean.csv\n"
     ]
    }
   ],
   "execution_count": 2
  },
  {
   "metadata": {
    "ExecuteTime": {
     "end_time": "2025-10-09T13:03:03.126625Z",
     "start_time": "2025-10-09T13:03:03.083366Z"
    }
   },
   "cell_type": "code",
   "source": [
    "import numpy as np\n",
    "\n",
    "# 语料\n",
    "text = \"面壁者 破壁人 三体 人类 宇宙\".split()\n",
    "vocab = list(set(text))\n",
    "stoi = {w:i for i,w in enumerate(vocab)}\n",
    "ids = np.array([stoi[w] for w in text])\n",
    "V, D = len(vocab), 8\n",
    "\n",
    "# 初始化词向量\n",
    "W_in  = np.random.randn(V, D) * 0.1\n",
    "W_out = np.random.randn(V, D) * 0.1\n",
    "\n",
    "def sigmoid(x): return 1/(1+np.exp(-x))\n",
    "\n",
    "# Skip-gram + 负采样\n",
    "for epoch in range(200):\n",
    "    loss = 0\n",
    "    for i, c in enumerate(ids):\n",
    "        ctx = [ids[j] for j in [i-1,i+1] if 0<=j<len(ids)]\n",
    "        for t in ctx:\n",
    "            neg = np.random.randint(0,V,3)  # 负样本3个\n",
    "            for target,label in [(t,1)] + [(n,0) for n in neg]:\n",
    "                dot = W_in[c] @ W_out[target]\n",
    "                p = sigmoid(dot)\n",
    "                grad = (label - p)\n",
    "                W_in[c]  += 0.05 * grad * W_out[target]\n",
    "                W_out[target] += 0.05 * grad * W_in[c]\n",
    "                loss += -np.log(p if label else (1-p)+1e-9)\n",
    "    if epoch % 50 == 0:\n",
    "        print(f\"Epoch {epoch}, loss={loss:.3f}\")\n",
    "\n",
    "# 语义相似度展示\n",
    "def most_similar(word):\n",
    "    i = stoi[word]\n",
    "    sim = W_in @ W_in[i]\n",
    "    j = np.argsort(-sim)\n",
    "    print(f\"'{word}' 的相似词:\", [vocab[k] for k in j[:3]])\n",
    "\n",
    "most_similar(\"人类\")\n"
   ],
   "id": "42da39464f76629b",
   "outputs": [
    {
     "name": "stdout",
     "output_type": "stream",
     "text": [
      "Epoch 0, loss=22.355\n",
      "Epoch 50, loss=16.114\n",
      "Epoch 100, loss=17.700\n",
      "Epoch 150, loss=13.824\n",
      "'人类' 的相似词: ['人类', '破壁人', '面壁者']\n"
     ]
    }
   ],
   "execution_count": 2
  }
 ],
 "metadata": {
  "kernelspec": {
   "display_name": "Python 3",
   "language": "python",
   "name": "python3"
  },
  "language_info": {
   "codemirror_mode": {
    "name": "ipython",
    "version": 2
   },
   "file_extension": ".py",
   "mimetype": "text/x-python",
   "name": "python",
   "nbconvert_exporter": "python",
   "pygments_lexer": "ipython2",
   "version": "2.7.6"
  }
 },
 "nbformat": 4,
 "nbformat_minor": 5
}
